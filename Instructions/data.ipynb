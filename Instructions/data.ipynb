import pandas as pd 

#read the csv file in 
df = pd.read_csv("Resources/cities.csv")

#save to file
df.to_html('data.html', index = False)

#assign to string
table = df.to_html()
print(table)